import pandas as pd
import numpy as np
import pylab as pl
%pylab inline

fout=pd.read_csv('/gws/open/NYCOpenData/nycopendata/data/h9gi-nx95/1482192000/h9gi-nx95.csv')
##Raw Data
print("Raw Data: \n",fout.head)

fout.drop(['TIME', 'BOROUGH', 'ZIP CODE', 'LATITUDE','LONGITUDE','LOCATION', 'ON STREET NAME', 'CROSS STREET NAME', 'OFF STREET NAME', 'NUMBER OF PERSONS KILLED','NUMBER OF PEDESTRIANS INJURED', 'NUMBER OF PEDESTRIANS KILLED','NUMBER OF CYCLIST INJURED', 'NUMBER OF CYCLIST KILLED','NUMBER OF MOTORIST INJURED', 'NUMBER OF MOTORIST KILLED','CONTRIBUTING FACTOR VEHICLE 1', 'CONTRIBUTING FACTOR VEHICLE 2','CONTRIBUTING FACTOR VEHICLE 3', 'CONTRIBUTING FACTOR VEHICLE 4','CONTRIBUTING FACTOR VEHICLE 5', 'UNIQUE KEY', 'VEHICLE TYPE CODE 1','VEHICLE TYPE CODE 2', 'VEHICLE TYPE CODE 3', 'VEHICLE TYPE CODE 4','VEHICLE TYPE CODE 5'],axis=1,inplace=True)

##Data with just Date and Number of people injured
print("Data for Date and Number of persons injured:\n",fout.head)


fout['DATE']=pd.to_datetime(fout['DATE'])
##Plotting the data
pl.plot(np.array(fout['DATE']),np.array(fout['NUMBER OF PERSONS INJURED']),'.')
pl.xlabel('Date of Collisions')
pl.ylabel('Number of persons injured')
pl.title('Plot representing Number of persons injured based on Date')
pl.xticks(rotation='vertical')

